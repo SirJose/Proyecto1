{
 "cells": [
  {
   "cell_type": "markdown",
   "id": "3f820794-c322-4154-9c44-02c6549d8f20",
   "metadata": {},
   "source": [
    "# <center>Proyecto 1</center>\n",
    "\n",
    "#### ***Nombre***: Jose Eduardo Calderon Lopez\n",
    "#### ***Carnet***: 14001764\n",
    "\n",
    "<br>\n",
    "<hr>\n",
    "<br>"
   ]
  },
  {
   "cell_type": "markdown",
   "id": "b84a2713-1f99-4b35-8508-8e45aeeb6b39",
   "metadata": {
    "tags": []
   },
   "source": [
    "## Imports necesarios para el proyecto"
   ]
  },
  {
   "cell_type": "code",
   "execution_count": 21,
   "id": "077e58d4-2ba7-498e-b2d8-d9078def2f3d",
   "metadata": {
    "tags": []
   },
   "outputs": [],
   "source": [
    "import numpy as np\n",
    "import pandas as pd\n",
    "import seaborn"
   ]
  },
  {
   "cell_type": "markdown",
   "id": "9475e60c-bf11-48be-a684-34a2a1970d1a",
   "metadata": {},
   "source": [
    "## Load inicial de datos"
   ]
  },
  {
   "cell_type": "code",
   "execution_count": null,
   "id": "1b4d60c5-0d7f-4fbf-93fe-48545e69bfcc",
   "metadata": {
    "tags": []
   },
   "outputs": [],
   "source": [
    "# Complete set\n",
    "dataset = np.load('proyecto_training_data.npy')\n"
   ]
  },
  {
   "cell_type": "code",
   "execution_count": 20,
   "id": "96a80dd0-3e8a-4827-83e7-5de7e755bfa0",
   "metadata": {
    "tags": []
   },
   "outputs": [],
   "source": [
    "filas = len(dataset)\n",
    "\n",
    "# Training set\n",
    "trainingData = dataset[:int(filas*0.8)]\n",
    "\n",
    "# Validation set\n",
    "validationData = dataset[int(filas*0.8):]"
   ]
  },
  {
   "cell_type": "markdown",
   "id": "f6d61114-e492-4acd-8364-38c377924445",
   "metadata": {
    "tags": []
   },
   "source": [
    "## Análisis exploratorio"
   ]
  },
  {
   "cell_type": "code",
   "execution_count": 61,
   "id": "83bda90b-efca-409e-85f6-e5d136f991d4",
   "metadata": {
    "tags": []
   },
   "outputs": [],
   "source": [
    "cols = 6\n",
    "\n",
    "arrMeans = [None] * cols\n",
    "arrMaxValues = [None] * cols\n",
    "arrMinValues = [None] * cols\n",
    "arrStdDevs = [None] * cols\n",
    "arrRanges = [None] * cols\n",
    "\n",
    "for i in range(0,cols):\n",
    "    arrMeans[i] = np.nanmean(trainingData[:,i])\n",
    "    arrMaxValues[i] = np.nanmax(trainingData[:,i])\n",
    "    arrMinValues[i] = np.nanmin(trainingData[:,i])\n",
    "    arrStdDevs[i] = np.nanstd(trainingData[:,i])\n",
    "arrRanges = list(map(lambda value1, value2: value1-value2, arrMaxValues, arrMinValues))\n"
   ]
  },
  {
   "cell_type": "code",
   "execution_count": null,
   "id": "e4b9dec1-6cef-46a3-85ee-2bc03fc91799",
   "metadata": {
    "tags": []
   },
   "outputs": [],
   "source": [
    "# data = { \n",
    "#         'SalePrice': trainingData[:,0],\n",
    "#         'OverallQual': trainingData[:,1],\n",
    "#         '1stFlrSF': trainingData[:,2],\n",
    "#         'TotRmsAbvGrd': trainingData[:,3],\n",
    "#         'YearBuilt': trainingData[:,4],\n",
    "#         'LotFrontage': trainingData[:,5],\n",
    "# }\n",
    "# df1 = pd.DataFrame(data)\n",
    "# df1"
   ]
  },
  {
   "cell_type": "code",
   "execution_count": null,
   "id": "6e99f35f-d3a2-4207-8a35-40933d9cd357",
   "metadata": {
    "tags": []
   },
   "outputs": [],
   "source": []
  },
  {
   "cell_type": "code",
   "execution_count": null,
   "id": "0b438ce4-720c-4c6a-9fbe-45e62e1d3fca",
   "metadata": {},
   "outputs": [],
   "source": []
  },
  {
   "cell_type": "code",
   "execution_count": null,
   "id": "9326eb81-7464-4955-9c8b-59899adc9855",
   "metadata": {},
   "outputs": [],
   "source": []
  },
  {
   "cell_type": "code",
   "execution_count": null,
   "id": "2c13d2e7-49b8-4349-8b05-5f514401480b",
   "metadata": {},
   "outputs": [],
   "source": []
  },
  {
   "cell_type": "code",
   "execution_count": null,
   "id": "6a29a2ad-5ca7-4328-92b8-d7b5defa0a89",
   "metadata": {},
   "outputs": [],
   "source": []
  },
  {
   "cell_type": "code",
   "execution_count": null,
   "id": "ccdc7e04-4f67-43a7-953c-4855d2cb6616",
   "metadata": {},
   "outputs": [],
   "source": []
  },
  {
   "cell_type": "code",
   "execution_count": null,
   "id": "57478684-e1cd-45b2-8fcd-410f5954d3bc",
   "metadata": {},
   "outputs": [],
   "source": []
  },
  {
   "cell_type": "code",
   "execution_count": null,
   "id": "57c00b6c-0b88-4088-8cf7-04a7f899f454",
   "metadata": {},
   "outputs": [],
   "source": []
  },
  {
   "cell_type": "code",
   "execution_count": null,
   "id": "6b8343cf-93c6-4d13-b802-59e6721bb513",
   "metadata": {},
   "outputs": [],
   "source": []
  },
  {
   "cell_type": "code",
   "execution_count": null,
   "id": "779ac2a2-3736-4944-a876-9f7218596a98",
   "metadata": {},
   "outputs": [],
   "source": []
  },
  {
   "cell_type": "code",
   "execution_count": null,
   "id": "d2d4d1cd-ece0-4cd8-ba57-01849438aacf",
   "metadata": {},
   "outputs": [],
   "source": []
  }
 ],
 "metadata": {
  "kernelspec": {
   "display_name": "Python 3 (ipykernel)",
   "language": "python",
   "name": "python3"
  },
  "language_info": {
   "codemirror_mode": {
    "name": "ipython",
    "version": 3
   },
   "file_extension": ".py",
   "mimetype": "text/x-python",
   "name": "python",
   "nbconvert_exporter": "python",
   "pygments_lexer": "ipython3",
   "version": "3.11.5"
  }
 },
 "nbformat": 4,
 "nbformat_minor": 5
}
