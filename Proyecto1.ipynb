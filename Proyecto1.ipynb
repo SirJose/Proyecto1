{
 "cells": [
  {
   "cell_type": "markdown",
   "id": "3f820794-c322-4154-9c44-02c6549d8f20",
   "metadata": {},
   "source": [
    "# <center>Proyecto 1</center>\n",
    "\n",
    "#### ***Nombre***: Jose Eduardo Calderon Lopez\n",
    "#### ***Carnet***: 14001764\n",
    "\n",
    "<br>\n",
    "<hr>\n",
    "<br>"
   ]
  },
  {
   "cell_type": "markdown",
   "id": "b84a2713-1f99-4b35-8508-8e45aeeb6b39",
   "metadata": {
    "tags": []
   },
   "source": [
    "## Imports necesarios para el proyecto"
   ]
  },
  {
   "cell_type": "code",
   "execution_count": 71,
   "id": "077e58d4-2ba7-498e-b2d8-d9078def2f3d",
   "metadata": {
    "tags": []
   },
   "outputs": [],
   "source": [
    "import numpy as np\n",
    "import pandas as pd\n",
    "import matplotlib.pyplot as plt\n",
    "import seaborn as sb"
   ]
  },
  {
   "cell_type": "markdown",
   "id": "9475e60c-bf11-48be-a684-34a2a1970d1a",
   "metadata": {
    "jp-MarkdownHeadingCollapsed": true,
    "tags": []
   },
   "source": [
    "## Load inicial de datos"
   ]
  },
  {
   "cell_type": "code",
   "execution_count": null,
   "id": "1b4d60c5-0d7f-4fbf-93fe-48545e69bfcc",
   "metadata": {
    "tags": []
   },
   "outputs": [],
   "source": [
    "# Complete set\n",
    "dataset = np.load('proyecto_training_data.npy')\n"
   ]
  },
  {
   "cell_type": "code",
   "execution_count": 20,
   "id": "96a80dd0-3e8a-4827-83e7-5de7e755bfa0",
   "metadata": {
    "tags": []
   },
   "outputs": [],
   "source": [
    "filas = len(dataset)\n",
    "\n",
    "# Training set\n",
    "trainingData = dataset[:int(filas*0.8)]\n",
    "\n",
    "# Validation set\n",
    "validationData = dataset[int(filas*0.8):]"
   ]
  },
  {
   "cell_type": "markdown",
   "id": "f6d61114-e492-4acd-8364-38c377924445",
   "metadata": {
    "jp-MarkdownHeadingCollapsed": true,
    "tags": []
   },
   "source": [
    "## Análisis exploratorio"
   ]
  },
  {
   "cell_type": "code",
   "execution_count": 277,
   "id": "83bda90b-efca-409e-85f6-e5d136f991d4",
   "metadata": {
    "tags": []
   },
   "outputs": [],
   "source": [
    "cols = 6\n",
    "\n",
    "arrMeans = np.zeros(cols)\n",
    "arrMaxValues = np.zeros(cols)\n",
    "arrMinValues = np.zeros(cols)\n",
    "arrStdDevs = np.zeros(cols)\n",
    "arrRanges = np.zeros(cols)\n",
    "\n",
    "for i in range(0,cols):\n",
    "    arrMeans[i] = round(np.nanmean(trainingData[:,i]), 5)\n",
    "    arrMaxValues[i] = round(np.nanmax(trainingData[:,i]), 5)\n",
    "    arrMinValues[i] = round(np.nanmin(trainingData[:,i]), 5)\n",
    "    arrStdDevs[i] = round(np.nanstd(trainingData[:,i]), 5)\n",
    "arrRanges = list(map(lambda value1, value2: value1-value2, arrMaxValues, arrMinValues))"
   ]
  },
  {
   "cell_type": "code",
   "execution_count": 270,
   "id": "50540a53-c846-4c2f-bd57-5a406d887aa8",
   "metadata": {
    "tags": []
   },
   "outputs": [],
   "source": [
    "def printAnalysis(index):\n",
    "    print(f\"Media: {arrMeans[index]}\")\n",
    "    print(f\"Valor máximo: {arrMaxValues[index]}\")\n",
    "    print(f\"Valor mínimo: {arrMinValues[index]}\")\n",
    "    print(f\"Rango: {arrRanges[index]}\")\n",
    "    print(f\"Desviación estándar: {arrStdDevs[index]}\")"
   ]
  },
  {
   "cell_type": "markdown",
   "id": "1d13bdaf-ced0-4ed4-a7af-3e4dc607017e",
   "metadata": {
    "tags": []
   },
   "source": [
    "### Sale Price ($)"
   ]
  },
  {
   "cell_type": "code",
   "execution_count": 271,
   "id": "0ec2cf3c-d4a1-4870-b702-731102556a49",
   "metadata": {
    "tags": []
   },
   "outputs": [
    {
     "name": "stdout",
     "output_type": "stream",
     "text": [
      "Media: 180590.2774\n",
      "Valor máximo: 755000.0\n",
      "Valor mínimo: 34900.0\n",
      "Rango: 720100.0\n",
      "Desviación estándar: 78781.95108\n"
     ]
    }
   ],
   "source": [
    "printAnalysis(0)"
   ]
  },
  {
   "cell_type": "markdown",
   "id": "c583a0dc-0989-4931-af88-687bf2789663",
   "metadata": {
    "tags": []
   },
   "source": [
    "### Overall Quality"
   ]
  },
  {
   "cell_type": "code",
   "execution_count": 272,
   "id": "89ef8ca1-6e1c-49fe-bf9f-b4d622f8e569",
   "metadata": {
    "tags": []
   },
   "outputs": [
    {
     "name": "stdout",
     "output_type": "stream",
     "text": [
      "Media: 6.10103\n",
      "Valor máximo: 10.0\n",
      "Valor mínimo: 1.0\n",
      "Rango: 9.0\n",
      "Desviación estándar: 1.37744\n"
     ]
    }
   ],
   "source": [
    "printAnalysis(1)"
   ]
  },
  {
   "cell_type": "markdown",
   "id": "44cba19b-bfea-4091-ba05-90ad28b9485f",
   "metadata": {
    "tags": []
   },
   "source": [
    "### First Floor sq ft"
   ]
  },
  {
   "cell_type": "code",
   "execution_count": 273,
   "id": "e9cf9baf-80c6-4078-a8a8-2f1014cbb66f",
   "metadata": {
    "tags": []
   },
   "outputs": [
    {
     "name": "stdout",
     "output_type": "stream",
     "text": [
      "Media: 1156.32363\n",
      "Valor máximo: 3228.0\n",
      "Valor mínimo: 334.0\n",
      "Rango: 2894.0\n",
      "Desviación estándar: 373.62033\n"
     ]
    }
   ],
   "source": [
    "printAnalysis(2)"
   ]
  },
  {
   "cell_type": "markdown",
   "id": "b2d8be04-f053-4586-89e0-2f7124afa731",
   "metadata": {
    "tags": []
   },
   "source": [
    "### Total Rooms"
   ]
  },
  {
   "cell_type": "code",
   "execution_count": 274,
   "id": "299f6130-d7bb-4d5d-8be4-2d52559552d3",
   "metadata": {
    "tags": []
   },
   "outputs": [
    {
     "name": "stdout",
     "output_type": "stream",
     "text": [
      "Media: 6.48545\n",
      "Valor máximo: 14.0\n",
      "Valor mínimo: 2.0\n",
      "Rango: 12.0\n",
      "Desviación estándar: 1.60845\n"
     ]
    }
   ],
   "source": [
    "printAnalysis(3)"
   ]
  },
  {
   "cell_type": "markdown",
   "id": "529a2537-1f19-438d-92cc-149764ad6fcc",
   "metadata": {
    "tags": []
   },
   "source": [
    "### Construction date"
   ]
  },
  {
   "cell_type": "code",
   "execution_count": 275,
   "id": "570c172b-3403-404a-90b1-269a3f5d4ebd",
   "metadata": {
    "tags": []
   },
   "outputs": [
    {
     "name": "stdout",
     "output_type": "stream",
     "text": [
      "Media: 1971.4512\n",
      "Valor máximo: 2010.0\n",
      "Valor mínimo: 1875.0\n",
      "Rango: 135.0\n",
      "Desviación estándar: 29.93888\n"
     ]
    }
   ],
   "source": [
    "printAnalysis(4)"
   ]
  },
  {
   "cell_type": "markdown",
   "id": "d9b87d96-de3e-4ea0-b1f1-ac164be6a957",
   "metadata": {
    "tags": []
   },
   "source": [
    "### Lot Frontage"
   ]
  },
  {
   "cell_type": "code",
   "execution_count": 276,
   "id": "42596406-cdda-43c4-9e70-e175bcd3746f",
   "metadata": {
    "tags": []
   },
   "outputs": [
    {
     "name": "stdout",
     "output_type": "stream",
     "text": [
      "Media: 69.94699\n",
      "Valor máximo: 313.0\n",
      "Valor mínimo: 21.0\n",
      "Rango: 292.0\n",
      "Desviación estándar: 23.46595\n"
     ]
    }
   ],
   "source": [
    "printAnalysis(5)"
   ]
  },
  {
   "cell_type": "markdown",
   "id": "ec7a7f4f-7fec-495e-9e93-417b8ca4d220",
   "metadata": {
    "jp-MarkdownHeadingCollapsed": true,
    "tags": []
   },
   "source": [
    "## Histogramas de variables"
   ]
  },
  {
   "cell_type": "code",
   "execution_count": 110,
   "id": "ac1864d5-3d7e-47eb-b222-f19c40029db1",
   "metadata": {
    "tags": []
   },
   "outputs": [],
   "source": [
    "def drawHistogram(column, title, xlabel, ylabel, color):\n",
    "    sb.set(style=\"darkgrid\")\n",
    "    sb.histplot(trainingData[:,column], color=color)\n",
    "\n",
    "    plt.title(title)\n",
    "    plt.xlabel(xlabel)\n",
    "    plt.ylabel(ylabel)\n",
    "    plt.show()"
   ]
  },
  {
   "cell_type": "markdown",
   "id": "d19239f7-a788-4d8a-9b3b-c9baf4afaa57",
   "metadata": {
    "tags": []
   },
   "source": [
    "### Sale Price"
   ]
  },
  {
   "cell_type": "code",
   "execution_count": 111,
   "id": "08072c26-500a-4385-abe1-0fee3cacd915",
   "metadata": {
    "tags": []
   },
   "outputs": [
    {
     "data": {
      "image/png": "[encoded data removed]",
      "text/plain": [
       "<Figure size 640x480 with 1 Axes>"
      ]
     },
     "metadata": {},
     "output_type": "display_data"
    }
   ],
   "source": [
    "drawHistogram(0, \"Sale Price\", \"SalePrice\", \"Count\", \"#3160b0\")"
   ]
  },
  {
   "cell_type": "markdown",
   "id": "00ebd570-cafe-4da5-93a0-073444c9fe59",
   "metadata": {
    "tags": []
   },
   "source": [
    "### Overall Quality"
   ]
  },
  {
   "cell_type": "code",
   "execution_count": 114,
   "id": "0b438ce4-720c-4c6a-9fbe-45e62e1d3fca",
   "metadata": {
    "tags": []
   },
   "outputs": [
    {
     "data": {
      "image/png": "[encoded data removed]",
      "text/plain": [
       "<Figure size 640x480 with 1 Axes>"
      ]
     },
     "metadata": {},
     "output_type": "display_data"
    }
   ],
   "source": [
    "drawHistogram(1, \"Overall Quality\", \"OverallQual\", \"Count\", \"#b03131\")"
   ]
  },
  {
   "cell_type": "markdown",
   "id": "9ceb2bf0-8500-494c-8b9f-d0059ad576c7",
   "metadata": {
    "tags": []
   },
   "source": [
    "### First Floor sq ft"
   ]
  },
  {
   "cell_type": "code",
   "execution_count": 115,
   "id": "2c13d2e7-49b8-4349-8b05-5f514401480b",
   "metadata": {
    "tags": []
   },
   "outputs": [
    {
     "data": {
      "image/png": "[encoded data removed]",
      "text/plain": [
       "<Figure size 640x480 with 1 Axes>"
      ]
     },
     "metadata": {},
     "output_type": "display_data"
    }
   ],
   "source": [
    "drawHistogram(2, \"First Floor sq ft\", \"1stFlrSF\", \"Count\", \"#67ad3e\")"
   ]
  },
  {
   "cell_type": "markdown",
   "id": "1d30495f-3994-456e-90e0-5328e2093e25",
   "metadata": {
    "tags": []
   },
   "source": [
    "### Total Rooms"
   ]
  },
  {
   "cell_type": "code",
   "execution_count": 123,
   "id": "14b00674-03d8-44f3-aafe-fff091de9fb6",
   "metadata": {
    "tags": []
   },
   "outputs": [
    {
     "data": {
      "image/png": "[encoded data removed]",
      "text/plain": [
       "<Figure size 640x480 with 1 Axes>"
      ]
     },
     "metadata": {},
     "output_type": "display_data"
    }
   ],
   "source": [
    "drawHistogram(3, \"Total Rooms\", \"TotRmsAbvGrd\", \"Count\", \"#cc631d\")"
   ]
  },
  {
   "cell_type": "markdown",
   "id": "bba437ef-d963-4091-945c-ae5333db55d5",
   "metadata": {
    "tags": []
   },
   "source": [
    "### Construction date"
   ]
  },
  {
   "cell_type": "code",
   "execution_count": 125,
   "id": "7af593ba-6ad1-4a8e-b305-b6f9980926f3",
   "metadata": {
    "tags": []
   },
   "outputs": [
    {
     "data": {
      "image/png": "[encoded data removed]",
      "text/plain": [
       "<Figure size 640x480 with 1 Axes>"
      ]
     },
     "metadata": {},
     "output_type": "display_data"
    }
   ],
   "source": [
    "drawHistogram(4, \"Construction date\", \"YearBuilt\", \"Count\", \"#f2c51f\")"
   ]
  },
  {
   "cell_type": "markdown",
   "id": "f342fb8d-5b51-4991-858c-93c326e6bba4",
   "metadata": {
    "tags": []
   },
   "source": [
    "### Lot Frontage"
   ]
  },
  {
   "cell_type": "code",
   "execution_count": 124,
   "id": "57c00b6c-0b88-4088-8cf7-04a7f899f454",
   "metadata": {
    "tags": []
   },
   "outputs": [
    {
     "data": {
      "image/png": "[encoded data removed]",
      "text/plain": [
       "<Figure size 640x480 with 1 Axes>"
      ]
     },
     "metadata": {},
     "output_type": "display_data"
    }
   ],
   "source": [
    "drawHistogram(5, \"Lot Frontage\", \"LotFrontage\", \"Count\", \"#8f19b3\")"
   ]
  },
  {
   "cell_type": "markdown",
   "id": "894d7f3b-479e-4f40-a9f8-a7a2516163e2",
   "metadata": {
    "tags": []
   },
   "source": [
    "## Correlaciones"
   ]
  },
  {
   "cell_type": "code",
   "execution_count": 220,
   "id": "d33b03a6-3daa-4dfe-904b-024f3454c686",
   "metadata": {
    "tags": []
   },
   "outputs": [],
   "source": [
    "saleprice = trainingData[:,0]\n",
    "overallquality = trainingData[:,1]\n",
    "firstfloorsqft = trainingData[:,2]\n",
    "totalrooms = trainingData[:,3]\n",
    "yearbuilt = trainingData[:,4]\n",
    "lotfrontage = trainingData[:,5]"
   ]
  },
  {
   "cell_type": "code",
   "execution_count": 264,
   "id": "1c92a6ce-7f2e-42f4-9cc9-08616dc9604f",
   "metadata": {
    "tags": []
   },
   "outputs": [],
   "source": [
    "def coefCorr(x,y):\n",
    "    # return np.corrcoef(x,y)[0][1]\n",
    "    return np.ma.corrcoef(np.ma.masked_invalid(x),np.ma.masked_invalid(y))[0][1]\n",
    "\n",
    "def printxyr(labelx, labely, r):\n",
    "    print(f\"x = {labelx}\")\n",
    "    print(f\"y = {labely}\")\n",
    "    print(f\"r = {r}\\n\")\n",
    "    \n",
    "# def printScatterPlot(x,y):\n",
    "#     print(\"x,y\\n\")\n",
    "\n",
    "def printCorrelations(column, name):\n",
    "    r1 = round(coefCorr(column, saleprice), 5)\n",
    "    r2 = round(coefCorr(column, overallquality), 5)\n",
    "    r3 = round(coefCorr(column, firstfloorsqft), 5)\n",
    "    r4 = round(coefCorr(column, totalrooms), 5)\n",
    "    r5 = round(coefCorr(column, yearbuilt), 5)\n",
    "    r6 = round(coefCorr(column, lotfrontage), 5)\n",
    "\n",
    "    printxyr(name, \"Sale Price\", r1)\n",
    "    \n",
    "    printxyr(name, \"Overall Quality\", r2)\n",
    "    \n",
    "    printxyr(name, \"First Floor sq ft\", r3)\n",
    "    \n",
    "    printxyr(name, \"Total Rooms\", r4)\n",
    "    \n",
    "    printxyr(name, \"Year built\", r5)\n",
    "    \n",
    "    printxyr(name, \"Lot Frontage\", r6)\n",
    "    "
   ]
  },
  {
   "cell_type": "markdown",
   "id": "4556580f-090f-42f1-949f-f21e6c5da7dc",
   "metadata": {
    "tags": []
   },
   "source": [
    "### Sale Price"
   ]
  },
  {
   "cell_type": "code",
   "execution_count": 265,
   "id": "84f54da2-ed0c-4608-bfd0-3c4089b7c2a5",
   "metadata": {
    "tags": []
   },
   "outputs": [
    {
     "name": "stdout",
     "output_type": "stream",
     "text": [
      "x = Sale Price\n",
      "y = Sale Price\n",
      "r = 1.0\n",
      "\n",
      "x = Sale Price\n",
      "y = Overall Quality\n",
      "r = 0.79399\n",
      "\n",
      "x = Sale Price\n",
      "y = First Floor sq ft\n",
      "r = 0.61629\n",
      "\n",
      "x = Sale Price\n",
      "y = Total Rooms\n",
      "r = 0.56471\n",
      "\n",
      "x = Sale Price\n",
      "y = Year built\n",
      "r = 0.53417\n",
      "\n",
      "x = Sale Price\n",
      "y = Lot Frontage\n",
      "r = 0.36329\n",
      "\n"
     ]
    }
   ],
   "source": [
    "printCorrelations(saleprice, \"Sale Price\")"
   ]
  },
  {
   "cell_type": "markdown",
   "id": "4fa89c79-02d9-4510-a654-70fa46abd790",
   "metadata": {
    "tags": []
   },
   "source": [
    "### Overall Quality"
   ]
  },
  {
   "cell_type": "code",
   "execution_count": 229,
   "id": "059d83ba-da50-4f57-aa51-57ffd43a0877",
   "metadata": {
    "tags": []
   },
   "outputs": [
    {
     "name": "stdout",
     "output_type": "stream",
     "text": [
      "x = Overall Quality\n",
      "y = Sale Price\n",
      "r = 0.79399\n",
      "\n",
      "x = Overall Quality\n",
      "y = Overall Quality\n",
      "r = 1.0\n",
      "\n",
      "x = Overall Quality\n",
      "y = First Floor sq ft\n",
      "r = 0.46941\n",
      "\n",
      "x = Overall Quality\n",
      "y = Total Rooms\n",
      "r = 0.44429\n",
      "\n",
      "x = Overall Quality\n",
      "y = Year built\n",
      "r = 0.56731\n",
      "\n",
      "x = Overall Quality\n",
      "y = Lot Frontage\n",
      "r = 0.24242\n",
      "\n"
     ]
    }
   ],
   "source": [
    "printCorrelations(overallquality, \"Overall Quality\")"
   ]
  },
  {
   "cell_type": "markdown",
   "id": "6d8c0041-5bc4-4611-9202-cb4be0ea5cb5",
   "metadata": {
    "tags": []
   },
   "source": [
    "### First Floor sq ft"
   ]
  },
  {
   "cell_type": "code",
   "execution_count": 230,
   "id": "4380135f-c2af-422a-b221-7a966f00b3d1",
   "metadata": {
    "tags": []
   },
   "outputs": [
    {
     "name": "stdout",
     "output_type": "stream",
     "text": [
      "x = First Floor sq ft\n",
      "y = Sale Price\n",
      "r = 0.61629\n",
      "\n",
      "x = First Floor sq ft\n",
      "y = Overall Quality\n",
      "r = 0.46941\n",
      "\n",
      "x = First Floor sq ft\n",
      "y = First Floor sq ft\n",
      "r = 1.0\n",
      "\n",
      "x = First Floor sq ft\n",
      "y = Total Rooms\n",
      "r = 0.40932\n",
      "\n",
      "x = First Floor sq ft\n",
      "y = Year built\n",
      "r = 0.29207\n",
      "\n",
      "x = First Floor sq ft\n",
      "y = Lot Frontage\n",
      "r = 0.41739\n",
      "\n"
     ]
    }
   ],
   "source": [
    "printCorrelations(firstfloorsqft, \"First Floor sq ft\")"
   ]
  },
  {
   "cell_type": "markdown",
   "id": "e52fb7b8-c962-4d65-bb08-2306d17af12a",
   "metadata": {
    "tags": []
   },
   "source": [
    "### Total Rooms"
   ]
  },
  {
   "cell_type": "code",
   "execution_count": 235,
   "id": "4765fe89-0c9a-43f7-ac78-f971e47ae3a6",
   "metadata": {
    "tags": []
   },
   "outputs": [
    {
     "name": "stdout",
     "output_type": "stream",
     "text": [
      "x = Total Rooms\n",
      "y = Sale Price\n",
      "r = 0.56471\n",
      "\n",
      "x = Total Rooms\n",
      "y = Overall Quality\n",
      "r = 0.44429\n",
      "\n",
      "x = Total Rooms\n",
      "y = First Floor sq ft\n",
      "r = 0.40932\n",
      "\n",
      "x = Total Rooms\n",
      "y = Total Rooms\n",
      "r = 1.0\n",
      "\n",
      "x = Total Rooms\n",
      "y = Year built\n",
      "r = 0.12291\n",
      "\n",
      "x = Total Rooms\n",
      "y = Lot Frontage\n",
      "r = 0.34101\n",
      "\n"
     ]
    }
   ],
   "source": [
    "printCorrelations(totalrooms, \"Total Rooms\")"
   ]
  },
  {
   "cell_type": "markdown",
   "id": "49029615-989c-4712-9514-fc25b3eb0837",
   "metadata": {
    "tags": []
   },
   "source": [
    "### Construction date"
   ]
  },
  {
   "cell_type": "code",
   "execution_count": 232,
   "id": "5a05e724-0fc1-4851-9c95-534b504f838c",
   "metadata": {
    "tags": []
   },
   "outputs": [
    {
     "name": "stdout",
     "output_type": "stream",
     "text": [
      "x = Year Built\n",
      "y = Sale Price\n",
      "r = 0.53417\n",
      "\n",
      "x = Year Built\n",
      "y = Overall Quality\n",
      "r = 0.56731\n",
      "\n",
      "x = Year Built\n",
      "y = First Floor sq ft\n",
      "r = 0.29207\n",
      "\n",
      "x = Year Built\n",
      "y = Total Rooms\n",
      "r = 0.12291\n",
      "\n",
      "x = Year Built\n",
      "y = Year built\n",
      "r = 1.0\n",
      "\n",
      "x = Year Built\n",
      "y = Lot Frontage\n",
      "r = 0.12147\n",
      "\n"
     ]
    }
   ],
   "source": [
    "printCorrelations(yearbuilt, \"Year Built\")"
   ]
  },
  {
   "cell_type": "markdown",
   "id": "82d4c151-f51d-471f-8a65-7e7ab2efcca8",
   "metadata": {},
   "source": [
    "### Lot Frontage"
   ]
  },
  {
   "cell_type": "code",
   "execution_count": 246,
   "id": "a17c67fb-05d9-4274-a57b-c55702b5fb07",
   "metadata": {
    "tags": []
   },
   "outputs": [
    {
     "name": "stdout",
     "output_type": "stream",
     "text": [
      "x = Lot Frontage\n",
      "y = Sale Price\n",
      "r = 0.36329\n",
      "\n",
      "x = Lot Frontage\n",
      "y = Overall Quality\n",
      "r = 0.24242\n",
      "\n",
      "x = Lot Frontage\n",
      "y = First Floor sq ft\n",
      "r = 0.41739\n",
      "\n",
      "x = Lot Frontage\n",
      "y = Total Rooms\n",
      "r = 0.34101\n",
      "\n",
      "x = Lot Frontage\n",
      "y = Year built\n",
      "r = 0.12147\n",
      "\n",
      "x = Lot Frontage\n",
      "y = Lot Frontage\n",
      "r = 1.0\n",
      "\n"
     ]
    }
   ],
   "source": [
    "printCorrelations(lotfrontage, \"Lot Frontage\")"
   ]
  },
  {
   "cell_type": "code",
   "execution_count": null,
   "id": "3bcb8c2a-b133-408a-b3d2-16794747d190",
   "metadata": {},
   "outputs": [],
   "source": []
  },
  {
   "cell_type": "code",
   "execution_count": null,
   "id": "b2b2704a-c4f4-4e85-8a82-8a9ef6dfd1d0",
   "metadata": {},
   "outputs": [],
   "source": []
  },
  {
   "cell_type": "code",
   "execution_count": null,
   "id": "32e0b4e6-7959-4d07-a845-7f3d784160f1",
   "metadata": {},
   "outputs": [],
   "source": []
  },
  {
   "cell_type": "code",
   "execution_count": null,
   "id": "dd49c16a-ee33-4fb2-9619-b9332d72fb3a",
   "metadata": {},
   "outputs": [],
   "source": []
  },
  {
   "cell_type": "code",
   "execution_count": null,
   "id": "c1f0e3d1-63e8-4fb2-9ce8-5b732a325b14",
   "metadata": {},
   "outputs": [],
   "source": []
  },
  {
   "cell_type": "code",
   "execution_count": null,
   "id": "77a2116c-a130-4418-b66d-b4d9e4eaa012",
   "metadata": {},
   "outputs": [],
   "source": []
  },
  {
   "cell_type": "code",
   "execution_count": null,
   "id": "2be45c09-edff-4019-afe9-bea828d27a3f",
   "metadata": {},
   "outputs": [],
   "source": []
  }
 ],
 "metadata": {
  "kernelspec": {
   "display_name": "Python 3 (ipykernel)",
   "language": "python",
   "name": "python3"
  },
  "language_info": {
   "codemirror_mode": {
    "name": "ipython",
    "version": 3
   },
   "file_extension": ".py",
   "mimetype": "text/x-python",
   "name": "python",
   "nbconvert_exporter": "python",
   "pygments_lexer": "ipython3",
   "version": "3.11.5"
  }
 },
 "nbformat": 4,
 "nbformat_minor": 5
}
